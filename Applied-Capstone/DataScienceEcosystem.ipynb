{
 "cells": [
  {
   "cell_type": "markdown",
   "id": "35c91884-72af-4035-9377-6ce31a19e30e",
   "metadata": {},
   "source": [
    "# Data Science Tools and Ecosystem"
   ]
  },
  {
   "cell_type": "markdown",
   "id": "5418d0d2-29c0-4a90-a807-fb91df60492d",
   "metadata": {},
   "source": [
    "## Author\n",
    "Chris Giordano"
   ]
  },
  {
   "cell_type": "markdown",
   "id": "90e510d9-f63d-47d9-aa13-f89eed11777f",
   "metadata": {},
   "source": [
    "In this notebook, Data Science Tools and Ecosystem are summarized."
   ]
  },
  {
   "cell_type": "markdown",
   "id": "0538c2c1-c59f-4429-a74f-51a4a1690ae1",
   "metadata": {},
   "source": [
    "**Objectives:**\n",
    "\n",
    "- List popular languages for Data Science  \n",
    "- Identify commonly used Data Science libraries  \n",
    "- Explore open-source development environments  \n",
    "- Perform basic arithmetic operations in Python  \n",
    "- Understand Markdown formatting in Jupyter Notebook "
   ]
  },
  {
   "cell_type": "markdown",
   "id": "5c22e3fd-43da-47b6-8afd-b11c261fc344",
   "metadata": {},
   "source": [
    "Some of the popular languages that Data Scientists use are:\n",
    "1. Python\n",
    "2. R\n",
    "3. Scala\n",
    "4. Java\n",
    "5. Julia\n",
    "6. SQL"
   ]
  },
  {
   "cell_type": "markdown",
   "id": "97d266a0-4863-45f4-b52b-7e556e056534",
   "metadata": {},
   "source": [
    "Some of the commonly used libraries used by Data Scientists include:\n",
    "1. dplyr\n",
    "2. stringr\n",
    "3. ggplot\n",
    "4. caret"
   ]
  },
  {
   "cell_type": "markdown",
   "id": "c2cebda9-30eb-4f18-927d-4d7ccf8b7671",
   "metadata": {},
   "source": [
    "| Data Science Tools |\n",
    "---------------------\n",
    "| Jupyter Notebook |\n",
    "| Rstudio |\n",
    "| Apache |\n"
   ]
  },
  {
   "cell_type": "markdown",
   "id": "d7f94f52-ea5c-4c2b-9238-11f301ac3449",
   "metadata": {},
   "source": [
    "### Below are a few examples of evaluating arithmetic expressions in Python"
   ]
  },
  {
   "cell_type": "code",
   "execution_count": 2,
   "id": "d9f51f3f-aafb-4046-b2ae-9bf48c0806bc",
   "metadata": {},
   "outputs": [
    {
     "data": {
      "text/plain": [
       "17"
      ]
     },
     "execution_count": 2,
     "metadata": {},
     "output_type": "execute_result"
    }
   ],
   "source": [
    "# This a simple arithmetic expression to multiply then add integers\n",
    "(3*4)+5"
   ]
  },
  {
   "cell_type": "code",
   "execution_count": 3,
   "id": "9639a3f4-f9f4-41c5-9b63-3757719a897e",
   "metadata": {},
   "outputs": [
    {
     "data": {
      "text/plain": [
       "3.3333333333333335"
      ]
     },
     "execution_count": 3,
     "metadata": {},
     "output_type": "execute_result"
    }
   ],
   "source": [
    "# This will convert 200 minutes to hours by diving by 60\n",
    "200/60"
   ]
  },
  {
   "cell_type": "code",
   "execution_count": null,
   "id": "8e1f6832-cbc2-47f5-8379-ad1287a7e730",
   "metadata": {},
   "outputs": [],
   "source": []
  }
 ],
 "metadata": {
  "kernelspec": {
   "display_name": "anaconda-panel-2023.05-py310",
   "language": "python",
   "name": "conda-env-anaconda-panel-2023.05-py310-py"
  },
  "language_info": {
   "codemirror_mode": {
    "name": "ipython",
    "version": 3
   },
   "file_extension": ".py",
   "mimetype": "text/x-python",
   "name": "python",
   "nbconvert_exporter": "python",
   "pygments_lexer": "ipython3",
   "version": "3.11.5"
  }
 },
 "nbformat": 4,
 "nbformat_minor": 5
}
